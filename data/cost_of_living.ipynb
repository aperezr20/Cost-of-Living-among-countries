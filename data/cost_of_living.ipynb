{
 "cells": [
  {
   "attachments": {},
   "cell_type": "markdown",
   "metadata": {},
   "source": [
    "## Cost of Living Among Countries Project\n",
    "\n",
    "### Business Understanding\n",
    "\n",
    "For this project, I was interestested in using the Global Cost of Living data from Numbeo to answer the following:\n",
    "\n",
    "1. What are the countries with highest and lowest Salary-Cost ratio considering the following indicators?\n",
    "\n",
    "    - Cost of a meal in an inexpensive restaurant\n",
    "    - Cost of gasoline\n",
    "    - Cost of basic services\n",
    "    - Cost of a Square Meter to buy an apartment in City Center\n",
    "\n",
    "\n",
    "2. Do countries with highest Cost of Living Index are necessarly the ones with highest purchasing power index?\n",
    "\n",
    "3. It is possible to accurately predict the average monthly salary of a country based on their living costs?"
   ]
  },
  {
   "attachments": {},
   "cell_type": "markdown",
   "metadata": {},
   "source": [
    "### Data Understanding \n",
    "\n",
    "In the first place, we will import the necessary libraries. Then, we will access the two available datasets"
   ]
  },
  {
   "cell_type": "code",
   "execution_count": null,
   "metadata": {},
   "outputs": [],
   "source": [
    "import numpy as np\n",
    "import pandas as pd\n",
    "import matplotlib.pyplot as plt\n",
    "from sklearn.linear_model import LinearRegression\n",
    "from sklearn.model_selection import train_test_split\n",
    "from sklearn.metrics import r2_score, mean_squared_error\n",
    "import plotly.express as px\n",
    "\n",
    "%matplotlib inline\n",
    "# Read both data sets\n",
    "df_1 = pd.read_csv('cost-of-living.csv', index_col=0)\n",
    "df_2 = pd.read_csv('cost-of-living_v2.csv', index_col=0)\n"
   ]
  },
  {
   "attachments": {},
   "cell_type": "markdown",
   "metadata": {},
   "source": [
    "We will explore both datasets and determine which data set to use based on the amount of missing values in df_1 and df_2"
   ]
  },
  {
   "cell_type": "code",
   "execution_count": null,
   "metadata": {},
   "outputs": [],
   "source": [
    "# Which dataset has more missing values?\n",
    "\n",
    "proportion = (df_1.isna().sum()/df_2.isna().sum()).mean()\n",
    "std = (df_1.isna().sum()/df_2.isna().sum()).std()\n",
    "\n",
    "print('Data Set 1 has {:.2f} +- {:.2f} missing values with respect Data Set 2'.format(proportion, std))"
   ]
  },
  {
   "attachments": {},
   "cell_type": "markdown",
   "metadata": {},
   "source": [
    "We will use Data Set 1 since it has less missing values than Data Set 2. \n",
    "The column 'data_quality' of the dataframe is 0 if Numbeo considers that more contributors are needed to increase data quality, else 1. Hence, we will only keep good quality data."
   ]
  },
  {
   "cell_type": "code",
   "execution_count": null,
   "metadata": {},
   "outputs": [],
   "source": [
    "df = df_1[df_1['data_quality']==1]\n",
    "df.head()"
   ]
  },
  {
   "attachments": {},
   "cell_type": "markdown",
   "metadata": {},
   "source": [
    "We rename columns for their meaning to understand further visualizations and tables. Also, we drop the data_quality column since it is 1 for all the rows and doesn't bring any information.\n",
    "\n",
    "Then, we describe the dataset"
   ]
  },
  {
   "cell_type": "code",
   "execution_count": null,
   "metadata": {},
   "outputs": [],
   "source": [
    "df.rename(columns = {'x1':'MealInexpensive',\n",
    "                     'x2':'Meal2People',\n",
    "                     'x3':'McMeal',\n",
    "                     'x4':'BeerDomesticRes',\n",
    "                     'x5':'BeerImportedRes',\n",
    "                     'x6':'Cappuccino',\n",
    "                     'x7':'Coke',\n",
    "                     'x8':'Water',\n",
    "                     'x9':'Milk',\n",
    "                     'x10':'Bread',\n",
    "                     'x11':'Rice',\n",
    "                     'x12':'Eggs',\n",
    "                     'x13':'Cheese',\n",
    "                     'x14':'Chicken',\n",
    "                     'x15':'Beef',\n",
    "                     'x16':'Apples',\n",
    "                     'x17':'Banana',\n",
    "                     'x18':'Oranges',\n",
    "                     'x19':'Tomato',\n",
    "                     'x20':'Potato',\n",
    "                     'x21':'Onion',\n",
    "                     'x22':'Lettuce',\n",
    "                     'x23':'WaterM',\n",
    "                     'x24':'Wine',\n",
    "                     'x25':'BeerDomesticMarket',\n",
    "                     'x26':'BeerImportedMarket',\n",
    "                     'x27':'Cigarettes',\n",
    "                     'x28':'OWTicket',\n",
    "                     'x29':'MonthlyPass',\n",
    "                     'x30':'TaxiStart',\n",
    "                     'x31':'Taxi1km',\n",
    "                     'x32':'Taxi1h',\n",
    "                     'x33':'Gasoline',\n",
    "                     'x34':'VWGolf',\n",
    "                     'x35':'Corolla',\n",
    "                     'x36':'Services',\n",
    "                     'x37':'Mobile',\n",
    "                     'x38':'Internet',\n",
    "                     'x39':'GymMonth',\n",
    "                     'x40':'Tennis1h',\n",
    "                     'x41':'Cinema',\n",
    "                     'x42':'PreschoolMonth',\n",
    "                     'x43':'IntlPrimarySchoolYear',\n",
    "                     'x44':'Jeans',\n",
    "                     'x45':'SummerDress',\n",
    "                     'x46':'NikeShoes',\n",
    "                     'x47':'LeatherShoes',\n",
    "                     'x48':'Apartment_1BR_C',\n",
    "                     'x49':'Apartment_1BR_OC',\n",
    "                     'x50':'Apartment_3BR_C',\n",
    "                     'x51':'Apartment_3BR_OC',\n",
    "                     'x52':'SquareMeter_C',\n",
    "                     'x53':'SquareMeter_OC',\n",
    "                     'x54':'Salary',\n",
    "                     'x55':'Mortgage_IR',\n",
    "\n",
    "                     }, \n",
    "                    inplace = True)\n",
    "df = df.drop('data_quality',axis=1)\n",
    "\n",
    "#Description of the dataset\n",
    "df.describe()"
   ]
  },
  {
   "attachments": {},
   "cell_type": "markdown",
   "metadata": {},
   "source": [
    "### Prepare Data \n",
    "\n",
    "1. Group cities\n",
    "\n",
    "    We will base our analysis on the living cost by countries. We create a new data frame grouping countries by averaging the values of their corresponding cities."
   ]
  },
  {
   "cell_type": "code",
   "execution_count": null,
   "metadata": {},
   "outputs": [],
   "source": [
    "df_countries = df.groupby(['country']).mean()\n",
    "df_countries.reset_index(inplace=True)\n",
    "df_countries.head()\n"
   ]
  },
  {
   "attachments": {},
   "cell_type": "markdown",
   "metadata": {},
   "source": [
    "2. Missing value treatment\n",
    "\n",
    "    - Let's see how many missing values are remaining and their proportions"
   ]
  },
  {
   "cell_type": "code",
   "execution_count": null,
   "metadata": {},
   "outputs": [],
   "source": [
    "prop_countries = (df_countries.count()/df_countries.shape[0]).sort_values()\n",
    "n_mv = df_countries.isna().sum().sum()\n",
    "\n",
    "print('The proportion of missing values for every column is: ')\n",
    "print(prop_countries)\n",
    "\n",
    "print('In total, there are {} missing values in the dataframe'.format(n_mv))\n"
   ]
  },
  {
   "attachments": {},
   "cell_type": "markdown",
   "metadata": {},
   "source": [
    "- We fill the 9 missing values in the dataframe with the most common value of the column for each indicator."
   ]
  },
  {
   "cell_type": "code",
   "execution_count": null,
   "metadata": {},
   "outputs": [],
   "source": [
    "df_countries_2 = df_countries.select_dtypes(include='float')\n",
    "\n",
    "fill_mode = lambda col: col.fillna(col.mode()[0])\n",
    "\n",
    "new_df = df_countries_2.apply(fill_mode, axis=1)\n",
    "n_mv = new_df.isna().sum().sum()\n",
    "\n",
    "print('Number of missing values now: {}'.format(n_mv))\n",
    "\n",
    "df_countries = pd.concat([df_countries['country'],new_df],axis=1)"
   ]
  },
  {
   "attachments": {},
   "cell_type": "markdown",
   "metadata": {},
   "source": [
    "### Analysis with visualization\n",
    "\n",
    "We use the geopandas library to visualize in a worldwide map the indicators of each country. Parts of the following code are taken from: https://www.kaggle.com/code/lauman/data-visualization-on-cost-of-living-dataset\n"
   ]
  },
  {
   "cell_type": "code",
   "execution_count": null,
   "metadata": {},
   "outputs": [],
   "source": [
    "import geopandas as gpd  \n",
    "SHAPEFILE = 'ne_10m_admin_0_countries.shp'\n",
    "geo_df = gpd.read_file(SHAPEFILE)\n",
    "\n",
    "geo_df['ADMIN'] = geo_df['ADMIN'].replace({\n",
    "    'United States of America': 'United States',\n",
    "    'Hong Kong S.A.R.': 'Hong Kong',\n",
    "    'United States of Tanzania': 'Tanzania',\n",
    "    'Republic of Serbia': 'Serbia'})\n",
    "\n",
    "geo_df = geo_df[['ADMIN', 'geometry']].set_index('ADMIN')\n"
   ]
  },
  {
   "attachments": {},
   "cell_type": "markdown",
   "metadata": {},
   "source": [
    "Let's take a look on the average salary of each country on the map"
   ]
  },
  {
   "cell_type": "code",
   "execution_count": null,
   "metadata": {},
   "outputs": [],
   "source": [
    "import plotly.figure_factory as ff \n",
    "import plotly.express as px \n",
    "\n",
    "col = 'Salary'\n",
    "\n",
    "fig = px.choropleth_mapbox(df_countries, geojson=geo_df.geometry, locations='country', color=col,\n",
    "                           color_continuous_scale=\"Viridis\",\n",
    "                           range_color=(df_countries[col].min(), df[col].max()),\n",
    "                           mapbox_style=\"carto-positron\",\n",
    "                           zoom=0, center={\"lat\": 22.3193, \"lon\": 114.1694},\n",
    "                           opacity=0.5,\n",
    "                           labels={col:'Average Monthly Net Salary (After Tax) (USD)'}\n",
    "                          )\n",
    "fig.update_layout(margin={\"r\":0,\"t\":0,\"l\":0,\"b\":0})\n",
    "fig.show()\n"
   ]
  },
  {
   "attachments": {},
   "cell_type": "markdown",
   "metadata": {},
   "source": [
    "\n",
    "It is noticable that salaries are higher in North America and Europe than in Latin America, Asia, and Africa. However, living costs may be also higher in the countries of these continents. Let's take a look to some indicators.\n",
    "\n",
    "Note: In the following plot, it is recommended to zoom in to get a better picture of the data distribution."
   ]
  },
  {
   "cell_type": "code",
   "execution_count": null,
   "metadata": {},
   "outputs": [],
   "source": [
    "import plotly.graph_objects as go\n",
    "from plotly.subplots import make_subplots\n",
    "\n",
    "def indicators_subplot(df_countries, indicators):\n",
    "    '''  Plot the indicators' cost of each country in descending order\n",
    "\n",
    "    Args:\n",
    "        df_countries (DataFrame): Dataframe that contains data about countries\n",
    "\n",
    "    '''\n",
    "    x = df_countries['country'] \n",
    "    \n",
    "    fig = make_subplots(rows=2, cols=2)\n",
    "\n",
    "    traces = []\n",
    "    for i in range(4):\n",
    "        traces.append(go.Bar(x=x, y=df_countries[indicators[i]],name=indicators[i])) \n",
    "\n",
    "    #Add traces to the subplot\n",
    "    fig.append_trace(traces[0], 1, 1)\n",
    "    fig.append_trace(traces[1], 1, 2)\n",
    "    fig.append_trace(traces[2], 2, 1)\n",
    "    fig.append_trace(traces[3], 2, 2)\n",
    "    #Overall figure config\n",
    "    fig.update_xaxes(categoryorder='total descending')\n",
    "    fig.update_layout(height=1000, width=1000,title='Overview of some cost indicators among countries')\n",
    "    fig.show()\n",
    "\n",
    "indicators = ['MealInexpensive', 'Gasoline','Services','SquareMeter_C']\n",
    "indicators_subplot(df_countries, indicators)"
   ]
  },
  {
   "attachments": {},
   "cell_type": "markdown",
   "metadata": {},
   "source": [
    "It seems that countries located at the right tail of the barplots are located in Latin America and Africa, which suggests that even though these people earn less, they may spend less also. In order to understand the relation between salary and costs in each country, a proportion should be made.\n",
    "\n",
    "Let's create a dataframe that contains the salary-cost ratio for each indicator and visualize some  of them on the world map."
   ]
  },
  {
   "cell_type": "code",
   "execution_count": null,
   "metadata": {},
   "outputs": [],
   "source": [
    "\n",
    "df_indicators = df_countries.drop(['country','Salary'],axis=1)\n",
    "ratio_df = df_indicators.divide(df_countries['Salary'],axis=0)\n",
    "ratio_df = pd.concat([df_countries['country'],ratio_df],axis=1)\n"
   ]
  },
  {
   "attachments": {},
   "cell_type": "markdown",
   "metadata": {},
   "source": [
    "Let's visualize the salary-cost ratio for the same previous indicators: MealInexpensive, Gasoline, Services, and Square_Meter_C"
   ]
  },
  {
   "cell_type": "code",
   "execution_count": null,
   "metadata": {},
   "outputs": [],
   "source": [
    "col = 'MealInexpensive'\n",
    "\n",
    "fig = px.choropleth_mapbox(ratio_df, geojson=geo_df.geometry, locations='country', color=col,\n",
    "                           color_continuous_scale=\"Turbo\",\n",
    "                           range_color=(ratio_df[col].max(), ratio_df[col].min()),\n",
    "                           mapbox_style=\"carto-positron\",\n",
    "                           zoom=0, center={\"lat\": 22.3193, \"lon\": 114.1694},\n",
    "                           opacity=0.5,\n",
    "                           labels={col:'Meal in an Inexpensive Restaurant and Salary ratio'}\n",
    "                          )\n",
    "fig.update_layout(margin={\"r\":0,\"t\":0,\"l\":0,\"b\":0})\n",
    "fig.show()"
   ]
  },
  {
   "cell_type": "code",
   "execution_count": null,
   "metadata": {},
   "outputs": [],
   "source": [
    "col = 'Gasoline'\n",
    "\n",
    "fig = px.choropleth_mapbox(ratio_df, geojson=geo_df.geometry, locations='country', color=col,\n",
    "                           color_continuous_scale=\"Turbo\",\n",
    "                           range_color=(ratio_df[col].max(), ratio_df[col].min()),\n",
    "                           mapbox_style=\"carto-positron\",\n",
    "                           zoom=0, center={\"lat\": 22.3193, \"lon\": 114.1694},\n",
    "                           opacity=0.5,\n",
    "                           labels={col:'Gasoline and Salary ratio'}\n",
    "                          )\n",
    "fig.update_layout(margin={\"r\":0,\"t\":0,\"l\":0,\"b\":0})\n",
    "fig.show()"
   ]
  },
  {
   "cell_type": "code",
   "execution_count": null,
   "metadata": {},
   "outputs": [],
   "source": [
    "col = 'Services'\n",
    "\n",
    "fig = px.choropleth_mapbox(ratio_df, geojson=geo_df.geometry, locations='country', color=col,\n",
    "                           color_continuous_scale=\"Turbo\",\n",
    "                           range_color=(ratio_df[col].max(), ratio_df[col].min()),\n",
    "                           mapbox_style=\"carto-positron\",\n",
    "                           zoom=0, center={\"lat\": 22.3193, \"lon\": 114.1694},\n",
    "                           opacity=0.5,\n",
    "                           labels={col:'Services and Salary ratio'}\n",
    "                          )\n",
    "fig.update_layout(margin={\"r\":0,\"t\":0,\"l\":0,\"b\":0})\n",
    "fig.show()"
   ]
  },
  {
   "cell_type": "code",
   "execution_count": null,
   "metadata": {},
   "outputs": [],
   "source": [
    "col = 'SquareMeter_C'\n",
    "\n",
    "fig = px.choropleth_mapbox(ratio_df, geojson=geo_df.geometry, locations='country', color=col,\n",
    "                           color_continuous_scale=\"Turbo\",\n",
    "                           range_color=(ratio_df[col].min(), ratio_df[col].max()),\n",
    "                           mapbox_style=\"carto-positron\",\n",
    "                           zoom=0, center={\"lat\": 22.3193, \"lon\": 114.1694},\n",
    "                           opacity=0.5,\n",
    "                           labels={col:'Price per Square Meter to Buy Apartment in City Centre and Salary Ratio'}\n",
    "                          )\n",
    "fig.update_layout(margin={\"r\":0,\"t\":0,\"l\":0,\"b\":0})\n",
    "fig.show()"
   ]
  },
  {
   "attachments": {},
   "cell_type": "markdown",
   "metadata": {},
   "source": [
    "From the visualizations, it is possible to note that there is a great difference throughout the countries in terms of the proportion of the salary that must be used to pay for the expenses of the indicators studied. In countries like Cuba, people need their entire salary to pay for basic services, while in United States and Canada, this only represents 4% of their salary. "
   ]
  },
  {
   "attachments": {},
   "cell_type": "markdown",
   "metadata": {},
   "source": [
    "The 5 countries with highest indicator salary ratio are shown in the tables below. "
   ]
  },
  {
   "cell_type": "code",
   "execution_count": null,
   "metadata": {},
   "outputs": [],
   "source": [
    "top_meal = ratio_df.sort_values(by=['MealInexpensive'], axis=0, ascending=False)[['country','MealInexpensive']]\n",
    "top_meal.head()"
   ]
  },
  {
   "cell_type": "code",
   "execution_count": null,
   "metadata": {},
   "outputs": [],
   "source": [
    "top_meal = ratio_df.sort_values(by=['Gasoline'], axis=0, ascending=False)[['country','Gasoline']]\n",
    "top_meal.head()"
   ]
  },
  {
   "cell_type": "code",
   "execution_count": null,
   "metadata": {},
   "outputs": [],
   "source": [
    "top_meal = ratio_df.sort_values(by=['Services'], axis=0, ascending=False)[['country','Services']]\n",
    "top_meal.head()"
   ]
  },
  {
   "cell_type": "code",
   "execution_count": null,
   "metadata": {},
   "outputs": [],
   "source": [
    "top_meal = ratio_df.sort_values(by=['SquareMeter_C'], axis=0, ascending=False)[['country','SquareMeter_C']]\n",
    "top_meal.head()"
   ]
  },
  {
   "attachments": {},
   "cell_type": "markdown",
   "metadata": {},
   "source": [
    "- What are the countries with highest and lowest Salary-Cost ratio considering the following indicators?\n",
    "\n",
    "Cuba tops the list in 3/4 indicators. Considering these four indicators, we can say that the monthly salary in Cuba is not enough to fulfill the average living costs. Also, most of the remaining countries of the list are african countries, which is an important social interest matter to consider globally."
   ]
  },
  {
   "attachments": {},
   "cell_type": "markdown",
   "metadata": {},
   "source": [
    "- The next question that we would like to answer is: Do countries with highest Cost of Living Index are necessarly the ones with highest purchasing power index?\n",
    "\n",
    "\n",
    "\n",
    "To answer this question we want to not only consider 4 indicators, but all the indicators available. The way to achieve this is to calculate a Cost of Living Index by computing a weighted average between all indicators. To obtain the purchasing power index, we divide the average salary of each country by their cost of living index. \n",
    "\n",
    "We will consider the weights that are adopted by Numbeo (https://www.numbeo.com/common/motivation_and_methodology.jsp). \n",
    "\n",
    "Note that Mobile weight is considerably high because that is the cost for only one minute of prepaid mobile."
   ]
  },
  {
   "cell_type": "code",
   "execution_count": null,
   "metadata": {},
   "outputs": [],
   "source": [
    "df_weights = pd.DataFrame([['MealInexpensive',16],\n",
    "                     ['Meal2People',3.5],\n",
    "                     ['McMeal',6],\n",
    "                     ['BeerDomesticRes',5],\n",
    "                     ['BeerImportedRes',5],\n",
    "                     ['Cappuccino',15],\n",
    "                     ['Coke',6],\n",
    "                     ['Water',6],\n",
    "                     ['Milk',25],\n",
    "                     ['Bread',31],\n",
    "                     ['Rice',14],\n",
    "                     ['Eggs',20],\n",
    "                     ['Cheese',12],\n",
    "                     ['Chicken',15],\n",
    "                     ['Beef',15],\n",
    "                     ['Apples',31],\n",
    "                     ['Banana',25],\n",
    "                     ['Oranges',30],\n",
    "                     ['Tomato',22],\n",
    "                     ['Potato',24],\n",
    "                     ['Onion',10],\n",
    "                     ['Lettuce',18],\n",
    "                     ['WaterM',30],\n",
    "                     ['Wine',4],\n",
    "                     ['BeerDomesticMarket',6],\n",
    "                     ['BeerImportedMarket',6],\n",
    "                     ['Cigarettes',15],\n",
    "                     ['OWTicket',20],\n",
    "                     ['MonthlyPass',1.5],\n",
    "                     ['TaxiStart',5],\n",
    "                     ['Taxi1km',20],\n",
    "                     ['Taxi1h',1.5],\n",
    "                     ['Gasoline',60],\n",
    "                     ['VWGolf',0.0035],\n",
    "                     ['Corolla',0.0035],\n",
    "                     ['Services',1],\n",
    "                     ['Mobile',320],\n",
    "                     ['Internet',1],\n",
    "                     ['GymMonth',2.3],\n",
    "                     ['Tennis1h',3],\n",
    "                     ['Cinema',6],\n",
    "                     ['PreschoolMonth',0],\n",
    "                     ['IntlPrimarySchoolYear',0],\n",
    "                     ['Jeans',0.35],\n",
    "                     ['SummerDress',0.35],\n",
    "                     ['NikeShoes',0.35],\n",
    "                     ['LeatherShoes',0.35],\n",
    "                     ['Apartment_1BR_C',0.25],\n",
    "                     ['Apartment_1BR_OC',0.25],\n",
    "                     ['Apartment_3BR_C',0.25],\n",
    "                     ['Apartment_3BR_OC',0.25],\n",
    "                     ['SquareMeter_C',0],\n",
    "                     ['SquareMeter_OC',0],\n",
    "                     ['Salary',0],\n",
    "                     ['Mortgage_IR',0]],columns=['Indicator','Weight']\n",
    "                     )\n",
    "\n",
    "fig = px.bar(df_weights.sort_values(by=['Weight'],ascending=False), x='Indicator', y=['Weight'],opacity=0.8)\n",
    "\n",
    "fig.show()"
   ]
  },
  {
   "cell_type": "code",
   "execution_count": null,
   "metadata": {},
   "outputs": [],
   "source": [
    "p=df_countries.drop(['country'],axis=1)\n",
    "row = list(df_weights['Weight'].T)\n",
    "df_countries['Index'] = p.mul(row,axis=1).sum(axis=1)\n",
    "df_countries['Power_index'] = df_countries['Salary'].divide(df_countries['Index'],axis=0) \n"
   ]
  },
  {
   "cell_type": "code",
   "execution_count": null,
   "metadata": {},
   "outputs": [],
   "source": [
    "\n",
    "x=df_countries['country']\n",
    "\n",
    "fig = make_subplots(rows=2, cols=1)\n",
    "\n",
    "trace0 = go.Bar(x=x, y=df_countries['Index'],name='Cost of Living Index')\n",
    "trace1 = go.Bar(x=x, y=df_countries['Power_index'],name='Purchasing Power Index')\n",
    "\n",
    "fig.append_trace(trace0, 1, 1)\n",
    "fig.append_trace(trace1, 2, 1)\n",
    "\n",
    "fig.update_xaxes(categoryorder='total descending')\n",
    "fig.update_layout(yaxis_title=(\"Cost (USD)\"))\n",
    "fig.show()\n",
    "\n"
   ]
  },
  {
   "attachments": {},
   "cell_type": "markdown",
   "metadata": {},
   "source": [
    "- Do countries with highest Cost of Living Index are necessarly the ones with highest purchasing power index?\n",
    "\n",
    "The countries of highest Cost of Living Index are: Bermuda, Switzerland, Singapore, Hong Kong, and Jersey. However, the countries with highest purchasing power index are: Isle of Man, United States, Switzerland, Australia, and New Zaeland. \n",
    "\n",
    "Countries like Bermuda, for example, have a considerably high cost of living, but the purchasing power index is average (around 0.5). This means that people do not earn enough money to afford the costs of their lives in that country. \n",
    "\n",
    "Inspecting both graphs closely, it is clear that people that live in some high cost of living countries do not earn enough money to have also a high purchasing power. Hence, countries with highest Cost of Living Index are not necessarly the ones with highest purchasing power index"
   ]
  },
  {
   "attachments": {},
   "cell_type": "markdown",
   "metadata": {},
   "source": [
    "### Modelling\n",
    "\n",
    "The next question is to determine if we can predict the average monthly salary of a country by training a model with their living costs indicators. For this, we will train a Random Forest Regressor and evaluate it with the R2 score. "
   ]
  },
  {
   "cell_type": "code",
   "execution_count": null,
   "metadata": {},
   "outputs": [],
   "source": [
    "from sklearn.model_selection import train_test_split\n",
    "\n",
    "X = df_countries.drop(['country','Salary','Power_index'],axis=1)\n",
    "\n",
    "y = df_countries['Salary']\n",
    "\n",
    "# Split data into training and test data, and fit a linear model\n",
    "X_train, X_test, y_train, y_test = train_test_split(X, y , test_size=.20, random_state=44)\n",
    "\n",
    "from sklearn.ensemble import RandomForestRegressor\n",
    "\n",
    "#Initialize Random Forest Regressor model\n",
    "rf_model = RandomForestRegressor(n_estimators=30, max_features=\"auto\", random_state=44, max_depth=20)\n",
    "#Fit the model \n",
    "rf_model.fit(X_train, y_train)\n",
    "#Predict on the test split\n",
    "predictions = rf_model.predict(X_test)\n",
    "#Evaluate the model\n",
    "r2_test = r2_score(y_test, predictions) * 100\n",
    "\n",
    "print(\"The model's score is {:.2f} %\".format(r2_test))\n"
   ]
  },
  {
   "attachments": {},
   "cell_type": "markdown",
   "metadata": {},
   "source": [
    "The model's score is 86.65%, which means that it is possible to predict the average monthly salary of a country based only on their costs. This is a powerful tool because it means you may customize costs and predict the salary based on them."
   ]
  },
  {
   "attachments": {},
   "cell_type": "markdown",
   "metadata": {},
   "source": [
    "### Evaluation and Findings\n",
    "\n",
    "According to the defined indicators, there is a huge difference between countries in terms of the proportion of the salary that must be used to pay for the expenses of the indicators studied. \n",
    "\n",
    "Also, we found the countries with most and least purchasing power index, which is a very important indicator of quality of life.\n",
    "\n",
    "Finally, we trained a Random Forest Regressor to predict the average salary of a country based on their costs of living. This model is useful for predicting salary of modified costs of living and for filling missed values in other datasets."
   ]
  }
 ],
 "metadata": {
  "kernelspec": {
   "display_name": "Python 3",
   "language": "python",
   "name": "python3"
  },
  "language_info": {
   "codemirror_mode": {
    "name": "ipython",
    "version": 3
   },
   "file_extension": ".py",
   "mimetype": "text/x-python",
   "name": "python",
   "nbconvert_exporter": "python",
   "pygments_lexer": "ipython3",
   "version": "3.7.8"
  },
  "orig_nbformat": 4,
  "vscode": {
   "interpreter": {
    "hash": "63cca8b7ddd7e25a57a5908c2b8582eaadfc4f578328f90aa4ea697939e961ed"
   }
  }
 },
 "nbformat": 4,
 "nbformat_minor": 2
}
